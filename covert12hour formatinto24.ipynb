{
  "nbformat": 4,
  "nbformat_minor": 0,
  "metadata": {
    "colab": {
      "name": "Untitled9.ipynb",
      "version": "0.3.2",
      "provenance": [],
      "collapsed_sections": []
    },
    "kernelspec": {
      "name": "python3",
      "display_name": "Python 3"
    }
  },
  "cells": [
    {
      "cell_type": "code",
      "metadata": {
        "id": "NCUYVmW0UZk1",
        "colab_type": "code",
        "colab": {}
      },
      "source": [
        "time = input(\"Enter the time: (HH:MM:SS AM/PM)\")"
      ],
      "execution_count": 0,
      "outputs": []
    },
    {
      "cell_type": "code",
      "metadata": {
        "id": "7IiCkoSKUdKO",
        "colab_type": "code",
        "colab": {}
      },
      "source": [
        "Enter the time: (HH:MM:SS AM/PM)10:40:44 PM"
      ],
      "execution_count": 0,
      "outputs": []
    },
    {
      "cell_type": "code",
      "metadata": {
        "id": "1NZr1nLWUdwo",
        "colab_type": "code",
        "colab": {}
      },
      "source": [
        "split_time = time.split(\" \")\n",
        "split_time2=split_time[0].split(\":\")"
      ],
      "execution_count": 0,
      "outputs": []
    },
    {
      "cell_type": "code",
      "metadata": {
        "id": "q4f6KlQ6UkUK",
        "colab_type": "code",
        "colab": {}
      },
      "source": [
        "for i in range(0,len(split_time2)):\n",
        "  split_time2[i]=int(split_time2[i])\n",
        "​\n",
        "​\n",
        "if split_time2[0] not in range(1,13):\n",
        "  print(\"values entered are incorrect\")\n",
        "elif split_time2[1] not in range(0,60):\n",
        "  print(\"values entered are incorrect\")\n",
        "elif split_time2[2] not in range(0,60):\n",
        "  print(\"values entered are incorrect\")\n",
        "else:\n",
        "  d = {'am':0,'AM':0,'pm':1,'PM':1}\n",
        "  if d[split_time[1]] == 0:\n",
        "    print(split_time[0])\n",
        "  else:\n",
        "    split_time2[0] = int(split_time2[0])\n",
        "    split_time2[0]+=12\n",
        "    if split_time2[0]==24: splite_time2[0]=24\n",
        "    print(split_time2[0],\":\",split_time2[1],\":\",split_time2[2])\n",
        "  "
      ],
      "execution_count": 0,
      "outputs": []
    },
    {
      "cell_type": "code",
      "metadata": {
        "id": "73WGBrhyUnN-",
        "colab_type": "code",
        "colab": {}
      },
      "source": [
        ""
      ],
      "execution_count": 0,
      "outputs": []
    }
  ]
}